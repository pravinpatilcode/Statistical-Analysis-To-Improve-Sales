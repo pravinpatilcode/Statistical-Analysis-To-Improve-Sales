{
 "cells": [
  {
   "cell_type": "markdown",
   "id": "bd90bb1e-43e7-4352-b2d8-7f6c462870ac",
   "metadata": {},
   "source": [
    "# Real Estate Survey Analysis"
   ]
  },
  {
   "cell_type": "markdown",
   "id": "f10ebe11-e89a-4e3f-b787-b00bf4435f61",
   "metadata": {},
   "source": [
    "## Task_1"
   ]
  },
  {
   "cell_type": "code",
   "execution_count": 1,
   "id": "b3fa51c3-8f6a-4966-9052-fd4bb3d798c5",
   "metadata": {},
   "outputs": [
    {
     "name": "stdout",
     "output_type": "stream",
     "text": [
      "-2.670374283581221\n",
      "0.010311025114315763\n",
      "Reject the null hypothesis. There is a significant difference in average rent.\n"
     ]
    }
   ],
   "source": [
    "import numpy as np\n",
    "import scipy.stats as stats\n",
    "\n",
    "# Given data\n",
    "population_mean = 33.88\n",
    "sample_mean = 32.18\n",
    "sample_std = 1.28  #  this is the sample standard deviation\n",
    "sample_size = 49\n",
    "alpha = 0.05  # Significance level\n",
    "\n",
    "# Calculate the t-statistic\n",
    "t_stat = (sample_mean - population_mean) / (sample_std / stats.t.ppf(1 - alpha/2, sample_size-1))\n",
    "print(t_stat)\n",
    "# Calculate the p-value\n",
    "p_value = stats.t.sf(abs(t_stat), sample_size-1) * 2\n",
    "print(p_value)\n",
    "# Make a decision\n",
    "if p_value < alpha:\n",
    "    print(\"Reject the null hypothesis. There is a significant difference in average rent.\")\n",
    "else:\n",
    "    print(\"Fail to reject the null hypothesis. There is no significant difference in average rent.\")"
   ]
  },
  {
   "cell_type": "markdown",
   "id": "b72f89e6-1ec3-4ab9-b19f-6c32a070ee2c",
   "metadata": {},
   "source": [
    "## Task_2"
   ]
  },
  {
   "cell_type": "code",
   "execution_count": 2,
   "id": "ec18fc1e-c354-42e9-888e-03b2cbfcdc87",
   "metadata": {},
   "outputs": [
    {
     "data": {
      "text/plain": [
       "2.0106347546964454"
      ]
     },
     "execution_count": 2,
     "metadata": {},
     "output_type": "execute_result"
    }
   ],
   "source": [
    "import scipy.stats as stats\n",
    "\n",
    "# Define significance level and degrees of freedom\n",
    "alpha = 0.05\n",
    "sample_size = 49\n",
    "degrees_of_freedom = sample_size - 1\n",
    "\n",
    "# Calculate the critical t-value for a two-tailed test\n",
    "critical_value = stats.t.ppf(1 - alpha / 2, df=degrees_of_freedom)\n",
    "critical_value"
   ]
  },
  {
   "cell_type": "code",
   "execution_count": 3,
   "id": "3c985a72-6781-4608-8bc7-99f3542676a3",
   "metadata": {},
   "outputs": [
    {
     "data": {
      "text/plain": [
       "2.011"
      ]
     },
     "execution_count": 3,
     "metadata": {},
     "output_type": "execute_result"
    }
   ],
   "source": [
    "critical_value = 2.011\n",
    "critical_value"
   ]
  },
  {
   "cell_type": "markdown",
   "id": "f223eecd-0466-402a-8564-2dc5b140d1ff",
   "metadata": {},
   "source": [
    "## Task_3"
   ]
  },
  {
   "cell_type": "code",
   "execution_count": 7,
   "id": "3709c324-e14b-4948-b654-c6dc88c6e113",
   "metadata": {},
   "outputs": [
    {
     "name": "stdout",
     "output_type": "stream",
     "text": [
      "Test statistic: -2.670374283581221\n"
     ]
    }
   ],
   "source": [
    "import scipy.stats as stats\n",
    "\n",
    "# Given data\n",
    "population_mean = 33.88\n",
    "sample_mean = 32.18\n",
    "sample_std = 1.28  # Assuming this is the sample standard deviation\n",
    "sample_size = 49\n",
    "\n",
    "# Calculate the t-statistic\n",
    "t_stat = (sample_mean - population_mean) / (sample_std / stats.t.ppf(1 - alpha/2, sample_size-1))\n",
    "\n",
    "print(\"Test statistic:\", t_stat)"
   ]
  },
  {
   "cell_type": "markdown",
   "id": "67f8e8a0-937d-4810-bf74-dbf2ac04b869",
   "metadata": {},
   "source": [
    "## Task_4"
   ]
  },
  {
   "cell_type": "code",
   "execution_count": 10,
   "id": "a77b0efc-f0b9-482c-a10b-1ccf3222722d",
   "metadata": {},
   "outputs": [
    {
     "name": "stdout",
     "output_type": "stream",
     "text": [
      "P-value: 0.0004758200839117702\n"
     ]
    }
   ],
   "source": [
    "import scipy.stats as stats\n",
    "\n",
    "# Given data ( we have already calculated the t-statistic)\n",
    "t_stat = -3.75  # Replace with our calculated t-statistic\n",
    "sample_size = 49\n",
    "\n",
    "# Calculate the p-value\n",
    "p_value = stats.t.sf(abs(t_stat), sample_size-1) * 2\n",
    "\n",
    "print(\"P-value:\", p_value)\n"
   ]
  },
  {
   "cell_type": "markdown",
   "id": "edc5f4c1-5ebf-471a-a419-3a14c9deac42",
   "metadata": {},
   "source": [
    "## Task_5"
   ]
  },
  {
   "cell_type": "code",
   "execution_count": 9,
   "id": "670c5497-9c4f-4693-9ac1-59765bcd0634",
   "metadata": {},
   "outputs": [
    {
     "name": "stdout",
     "output_type": "stream",
     "text": [
      "Fail to reject the null hypothesis.\n",
      "Reject the null hypothesis.\n"
     ]
    }
   ],
   "source": [
    "#  we have calculated t_stat, p_value, critical values, and alpha\n",
    "\n",
    "# Compare t-statistic with critical values\n",
    "if t_stat <  t_stat > t_critical:\n",
    "    print(\"Reject the null hypothesis.\")\n",
    "else:\n",
    "    print(\"Fail to reject the null hypothesis.\")\n",
    "\n",
    "# Compare p-value with alpha\n",
    "if p_value < alpha:\n",
    "    print(\"Reject the null hypothesis.\")\n",
    "else:\n",
    "    print(\"Fail to reject the null hypothesis.\")"
   ]
  },
  {
   "cell_type": "code",
   "execution_count": null,
   "id": "e7efb0bb-17a3-40d3-aeb1-fdb3f9115388",
   "metadata": {},
   "outputs": [],
   "source": [
    "## Compare t-statistic with critical values:-If the t-statistic falls outside the critical values reject the null hypothesis,Otherwise, fail to reject the null hypothesis.\n",
    "\n",
    "\n",
    "## Compare p-value with alpha:-If the p-value is less than alpha, reject the null hypothesis,Otherwise, fail to reject the null hypothesis.\n",
    "\n",
    "## Conclusion: Based on the calculated test statistic and p-value, there is strong evidence to suggest that the average rent for industrial spaces has significantly decreased since 2020.\n",
    "\n"
   ]
  },
  {
   "cell_type": "code",
   "execution_count": null,
   "id": "195361f7-9e71-4e52-a0e1-1f439f5004be",
   "metadata": {},
   "outputs": [],
   "source": []
  }
 ],
 "metadata": {
  "kernelspec": {
   "display_name": "Python 3 (ipykernel)",
   "language": "python",
   "name": "python3"
  },
  "language_info": {
   "codemirror_mode": {
    "name": "ipython",
    "version": 3
   },
   "file_extension": ".py",
   "mimetype": "text/x-python",
   "name": "python",
   "nbconvert_exporter": "python",
   "pygments_lexer": "ipython3",
   "version": "3.11.7"
  }
 },
 "nbformat": 4,
 "nbformat_minor": 5
}
