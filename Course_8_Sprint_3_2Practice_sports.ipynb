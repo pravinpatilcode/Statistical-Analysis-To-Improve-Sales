{
 "cells": [
  {
   "cell_type": "raw",
   "id": "e7da4cfe-6fe0-43cb-bab1-67c0e77c525d",
   "metadata": {},
   "source": [
    "# Task 2 Sports Metric Analysis\n",
    "a.What is null and alternate hypothesis to determine if Mac’s different grips helped to increase the distance? Also determine the type of tailed-test to be performed."
   ]
  },
  {
   "cell_type": "code",
   "execution_count": 26,
   "id": "03e58099",
   "metadata": {},
   "outputs": [],
   "source": [
    "# Null hypothesis\n",
    "#H0:μ=85\n",
    "\n",
    "# Alternate hypothesis\n",
    "#H1:μ>85"
   ]
  },
  {
   "cell_type": "code",
   "execution_count": null,
   "id": "9b5a4064",
   "metadata": {},
   "outputs": [],
   "source": [
    "# b.\tFor alpha =0.05, what is the critical value of the hypothesis test."
   ]
  },
  {
   "cell_type": "code",
   "execution_count": 19,
   "id": "d5fd9d8a",
   "metadata": {},
   "outputs": [
    {
     "data": {
      "text/plain": [
       "1.6448536269514722"
      ]
     },
     "execution_count": 19,
     "metadata": {},
     "output_type": "execute_result"
    }
   ],
   "source": [
    "alpha = 0.05\n",
    "critical_value = stats.norm.ppf(1 - alpha)\n",
    "critical_value"
   ]
  },
  {
   "cell_type": "code",
   "execution_count": 20,
   "id": "e6d01ede",
   "metadata": {},
   "outputs": [],
   "source": [
    "# c.\tWhat are test statistics for the hypothesis test?"
   ]
  },
  {
   "cell_type": "code",
   "execution_count": 21,
   "id": "29c45de1",
   "metadata": {},
   "outputs": [
    {
     "data": {
      "text/plain": [
       "6.734350297014738"
      ]
     },
     "execution_count": 21,
     "metadata": {},
     "output_type": "execute_result"
    }
   ],
   "source": [
    "sample_mean = 87.5\n",
    "population_mean = 85\n",
    "population_std = 2.1\n",
    "n = 32\n",
    "\n",
    "z_statistic = (sample_mean - population_mean) / (population_std / np.sqrt(n))\n",
    "z_statistic # Calculate the Z-statistic"
   ]
  },
  {
   "cell_type": "code",
   "execution_count": 22,
   "id": "fae1a32e",
   "metadata": {},
   "outputs": [],
   "source": [
    "# d.\tCalculate the p-value for the hypothesis test."
   ]
  },
  {
   "cell_type": "code",
   "execution_count": 23,
   "id": "8dbecfde",
   "metadata": {},
   "outputs": [
    {
     "data": {
      "text/plain": [
       "8.233191906015236e-12"
      ]
     },
     "execution_count": 23,
     "metadata": {},
     "output_type": "execute_result"
    }
   ],
   "source": [
    "p_value = 1 - stats.norm.cdf(z_statistic)\n",
    "p_value"
   ]
  },
  {
   "cell_type": "code",
   "execution_count": 24,
   "id": "9823277a",
   "metadata": {},
   "outputs": [
    {
     "data": {
      "text/plain": [
       "('and',\n",
       " 'p-value',\n",
       " 'with',\n",
       " 'alpha',\n",
       " 'value.#',\n",
       " 'Sketch',\n",
       " 'the',\n",
       " 'graph',\n",
       " 'and',\n",
       " 'state',\n",
       " 'your',\n",
       " 'conclusion.')"
      ]
     },
     "execution_count": 24,
     "metadata": {},
     "output_type": "execute_result"
    }
   ],
   "source": [
    "# e.\tDraw the conclusion for the hypothesis test by comparing test-statistic with the critical value\n",
    ", and p-value with alpha value.# Sketch the graph and state your conclusion."
   ]
  },
  {
   "cell_type": "code",
   "execution_count": 25,
   "id": "dd08b36a",
   "metadata": {},
   "outputs": [
    {
     "data": {
      "text/plain": [
       "('Reject the null hypothesis (mean distance has increased).',\n",
       " 'Reject the null hypothesis (mean distance has increased).')"
      ]
     },
     "execution_count": 25,
     "metadata": {},
     "output_type": "execute_result"
    }
   ],
   "source": [
    "# Conclusion based on critical value\n",
    "if z_statistic > critical_value:\n",
    "    conclusion_critical = \"Reject the null hypothesis (mean distance has increased).\"\n",
    "else:\n",
    "    conclusion_critical = \"Fail to reject the null hypothesis (no significant increase in mean distance).\"\n",
    "\n",
    "# Conclusion based on p-value\n",
    "if p_value < alpha:\n",
    "    conclusion_p_value = \"Reject the null hypothesis (mean distance has increased).\"\n",
    "else:\n",
    "    conclusion_p_value = \"Fail to reject the null hypothesis (no significant increase in mean distance).\"\n",
    "\n",
    "# Final conclusions\n",
    "conclusion_critical, conclusion_p_value"
   ]
  },
  {
   "cell_type": "code",
   "execution_count": null,
   "id": "c814384f",
   "metadata": {},
   "outputs": [],
   "source": []
  },
  {
   "cell_type": "code",
   "execution_count": null,
   "id": "82e1f82c-cfc6-4171-a1cc-dc4705abd373",
   "metadata": {},
   "outputs": [],
   "source": []
  },
  {
   "cell_type": "code",
   "execution_count": null,
   "id": "e9a47d86-e6f9-4eae-81f7-1e1aa2b0b007",
   "metadata": {},
   "outputs": [],
   "source": []
  }
 ],
 "metadata": {
  "kernelspec": {
   "display_name": "Python 3 (ipykernel)",
   "language": "python",
   "name": "python3"
  },
  "language_info": {
   "codemirror_mode": {
    "name": "ipython",
    "version": 3
   },
   "file_extension": ".py",
   "mimetype": "text/x-python",
   "name": "python",
   "nbconvert_exporter": "python",
   "pygments_lexer": "ipython3",
   "version": "3.11.7"
  }
 },
 "nbformat": 4,
 "nbformat_minor": 5
}
