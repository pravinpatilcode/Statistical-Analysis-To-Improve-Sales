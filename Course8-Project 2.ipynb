{
 "cells": [
  {
   "cell_type": "code",
   "execution_count": 2,
   "id": "731c1f13-bd48-4ced-b1c3-3a38c164278e",
   "metadata": {},
   "outputs": [],
   "source": [
    "import numpy as np\n",
    "import pandas as pd\n",
    "import matplotlib.pyplot as plt\n"
   ]
  },
  {
   "cell_type": "code",
   "execution_count": 3,
   "id": "d181aaab-d9e3-4c74-96e8-7d752398981f",
   "metadata": {},
   "outputs": [
    {
     "data": {
      "text/html": [
       "<div>\n",
       "<style scoped>\n",
       "    .dataframe tbody tr th:only-of-type {\n",
       "        vertical-align: middle;\n",
       "    }\n",
       "\n",
       "    .dataframe tbody tr th {\n",
       "        vertical-align: top;\n",
       "    }\n",
       "\n",
       "    .dataframe thead th {\n",
       "        text-align: right;\n",
       "    }\n",
       "</style>\n",
       "<table border=\"1\" class=\"dataframe\">\n",
       "  <thead>\n",
       "    <tr style=\"text-align: right;\">\n",
       "      <th></th>\n",
       "      <th>index</th>\n",
       "      <th>price</th>\n",
       "      <th>speed</th>\n",
       "      <th>hd</th>\n",
       "      <th>ram</th>\n",
       "      <th>screen</th>\n",
       "      <th>cd</th>\n",
       "      <th>multi</th>\n",
       "      <th>premium</th>\n",
       "      <th>ads_2022</th>\n",
       "      <th>ads_2023</th>\n",
       "      <th>trend</th>\n",
       "    </tr>\n",
       "  </thead>\n",
       "  <tbody>\n",
       "    <tr>\n",
       "      <th>0</th>\n",
       "      <td>1</td>\n",
       "      <td>1499</td>\n",
       "      <td>25</td>\n",
       "      <td>80</td>\n",
       "      <td>4</td>\n",
       "      <td>14</td>\n",
       "      <td>no</td>\n",
       "      <td>no</td>\n",
       "      <td>yes</td>\n",
       "      <td>94</td>\n",
       "      <td>94</td>\n",
       "      <td>1</td>\n",
       "    </tr>\n",
       "    <tr>\n",
       "      <th>1</th>\n",
       "      <td>2</td>\n",
       "      <td>1795</td>\n",
       "      <td>33</td>\n",
       "      <td>85</td>\n",
       "      <td>2</td>\n",
       "      <td>14</td>\n",
       "      <td>no</td>\n",
       "      <td>no</td>\n",
       "      <td>yes</td>\n",
       "      <td>94</td>\n",
       "      <td>94</td>\n",
       "      <td>1</td>\n",
       "    </tr>\n",
       "    <tr>\n",
       "      <th>2</th>\n",
       "      <td>3</td>\n",
       "      <td>1595</td>\n",
       "      <td>25</td>\n",
       "      <td>170</td>\n",
       "      <td>4</td>\n",
       "      <td>15</td>\n",
       "      <td>no</td>\n",
       "      <td>no</td>\n",
       "      <td>yes</td>\n",
       "      <td>94</td>\n",
       "      <td>94</td>\n",
       "      <td>1</td>\n",
       "    </tr>\n",
       "    <tr>\n",
       "      <th>3</th>\n",
       "      <td>4</td>\n",
       "      <td>1849</td>\n",
       "      <td>25</td>\n",
       "      <td>170</td>\n",
       "      <td>8</td>\n",
       "      <td>14</td>\n",
       "      <td>no</td>\n",
       "      <td>no</td>\n",
       "      <td>no</td>\n",
       "      <td>94</td>\n",
       "      <td>94</td>\n",
       "      <td>1</td>\n",
       "    </tr>\n",
       "    <tr>\n",
       "      <th>4</th>\n",
       "      <td>5</td>\n",
       "      <td>3295</td>\n",
       "      <td>33</td>\n",
       "      <td>340</td>\n",
       "      <td>16</td>\n",
       "      <td>14</td>\n",
       "      <td>no</td>\n",
       "      <td>no</td>\n",
       "      <td>yes</td>\n",
       "      <td>94</td>\n",
       "      <td>104</td>\n",
       "      <td>1</td>\n",
       "    </tr>\n",
       "    <tr>\n",
       "      <th>...</th>\n",
       "      <td>...</td>\n",
       "      <td>...</td>\n",
       "      <td>...</td>\n",
       "      <td>...</td>\n",
       "      <td>...</td>\n",
       "      <td>...</td>\n",
       "      <td>...</td>\n",
       "      <td>...</td>\n",
       "      <td>...</td>\n",
       "      <td>...</td>\n",
       "      <td>...</td>\n",
       "      <td>...</td>\n",
       "    </tr>\n",
       "    <tr>\n",
       "      <th>6254</th>\n",
       "      <td>6255</td>\n",
       "      <td>1690</td>\n",
       "      <td>100</td>\n",
       "      <td>528</td>\n",
       "      <td>8</td>\n",
       "      <td>15</td>\n",
       "      <td>no</td>\n",
       "      <td>no</td>\n",
       "      <td>yes</td>\n",
       "      <td>39</td>\n",
       "      <td>70</td>\n",
       "      <td>35</td>\n",
       "    </tr>\n",
       "    <tr>\n",
       "      <th>6255</th>\n",
       "      <td>6256</td>\n",
       "      <td>2223</td>\n",
       "      <td>66</td>\n",
       "      <td>850</td>\n",
       "      <td>16</td>\n",
       "      <td>15</td>\n",
       "      <td>yes</td>\n",
       "      <td>yes</td>\n",
       "      <td>yes</td>\n",
       "      <td>39</td>\n",
       "      <td>70</td>\n",
       "      <td>35</td>\n",
       "    </tr>\n",
       "    <tr>\n",
       "      <th>6256</th>\n",
       "      <td>6257</td>\n",
       "      <td>2654</td>\n",
       "      <td>100</td>\n",
       "      <td>1200</td>\n",
       "      <td>24</td>\n",
       "      <td>15</td>\n",
       "      <td>yes</td>\n",
       "      <td>no</td>\n",
       "      <td>yes</td>\n",
       "      <td>39</td>\n",
       "      <td>70</td>\n",
       "      <td>35</td>\n",
       "    </tr>\n",
       "    <tr>\n",
       "      <th>6257</th>\n",
       "      <td>6258</td>\n",
       "      <td>2195</td>\n",
       "      <td>100</td>\n",
       "      <td>850</td>\n",
       "      <td>16</td>\n",
       "      <td>15</td>\n",
       "      <td>yes</td>\n",
       "      <td>no</td>\n",
       "      <td>yes</td>\n",
       "      <td>39</td>\n",
       "      <td>70</td>\n",
       "      <td>35</td>\n",
       "    </tr>\n",
       "    <tr>\n",
       "      <th>6258</th>\n",
       "      <td>6259</td>\n",
       "      <td>2490</td>\n",
       "      <td>100</td>\n",
       "      <td>850</td>\n",
       "      <td>16</td>\n",
       "      <td>17</td>\n",
       "      <td>yes</td>\n",
       "      <td>no</td>\n",
       "      <td>yes</td>\n",
       "      <td>39</td>\n",
       "      <td>70</td>\n",
       "      <td>35</td>\n",
       "    </tr>\n",
       "  </tbody>\n",
       "</table>\n",
       "<p>6259 rows × 12 columns</p>\n",
       "</div>"
      ],
      "text/plain": [
       "      index  price  speed    hd  ram  screen   cd multi premium  ads_2022  \\\n",
       "0         1   1499     25    80    4      14   no    no     yes        94   \n",
       "1         2   1795     33    85    2      14   no    no     yes        94   \n",
       "2         3   1595     25   170    4      15   no    no     yes        94   \n",
       "3         4   1849     25   170    8      14   no    no      no        94   \n",
       "4         5   3295     33   340   16      14   no    no     yes        94   \n",
       "...     ...    ...    ...   ...  ...     ...  ...   ...     ...       ...   \n",
       "6254   6255   1690    100   528    8      15   no    no     yes        39   \n",
       "6255   6256   2223     66   850   16      15  yes   yes     yes        39   \n",
       "6256   6257   2654    100  1200   24      15  yes    no     yes        39   \n",
       "6257   6258   2195    100   850   16      15  yes    no     yes        39   \n",
       "6258   6259   2490    100   850   16      17  yes    no     yes        39   \n",
       "\n",
       "      ads_2023  trend  \n",
       "0           94      1  \n",
       "1           94      1  \n",
       "2           94      1  \n",
       "3           94      1  \n",
       "4          104      1  \n",
       "...        ...    ...  \n",
       "6254        70     35  \n",
       "6255        70     35  \n",
       "6256        70     35  \n",
       "6257        70     35  \n",
       "6258        70     35  \n",
       "\n",
       "[6259 rows x 12 columns]"
      ]
     },
     "execution_count": 3,
     "metadata": {},
     "output_type": "execute_result"
    }
   ],
   "source": [
    "#LOAD DATASET\n",
    "computer_df = pd.read_csv('DS1_C8_Computers_Data_Project.csv')\n",
    "computer_df"
   ]
  },
  {
   "cell_type": "markdown",
   "id": "a3ceaa87-46df-48c1-8f7e-4ae86934f91a",
   "metadata": {},
   "source": [
    "## BUSINESS OBJECTIVE 4"
   ]
  },
  {
   "cell_type": "markdown",
   "id": "01cc6be2-11ad-4273-b64b-bab588ef7900",
   "metadata": {},
   "source": [
    "# TASK 1"
   ]
  },
  {
   "cell_type": "markdown",
   "id": "355a94ca-d7f4-4138-92f1-d2f20e780b8c",
   "metadata": {},
   "source": [
    "**QUESTION:** \n",
    "\n",
    "The advertising budget spent on promoting premium computers in 2023 is increased as compared to 2022.\n",
    "The mean advertising budget was 221.3 billion dollars in 2022 and it was 222.2 billion dollars in 2023. \n",
    "A promoter in this company believes that the average advertising budget is higher than that of 2022. \n",
    "Priya, a data analyst, randomly selected 40 premium computers to check this notion.\n",
    "Use a 5% level of significance to test Maya's hypothesis. Consider normally distribution in the population and standard deviation is 74.83."
   ]
  },
  {
   "cell_type": "markdown",
   "id": "5eef3679-78f1-42e4-8568-c2e73986f7af",
   "metadata": {},
   "source": [
    "Given data :\n",
    "\n",
    "Mean advertising budget in 2022 (Population Mean) - $221.3 billion\n",
    "Mean advertising budget in 2023 (Sample Mean)  - $222.2 billion\n",
    "n = 40\n",
    "Population standard deviation = 74.83\n",
    "alpha = 0.05"
   ]
  },
  {
   "cell_type": "markdown",
   "id": "ef764ec6-b163-4184-99b2-4852d46a1c53",
   "metadata": {},
   "source": [
    "a.) Establish the null and alternate hypothesis\n",
    "\n",
    "NULL HYPOTHESIS : The mean advertising budget in 2023 is less than or equal to the mean in 2022.\n",
    "\n",
    "ALTERNATIVE HYPOTHESIS : The mean advertising budget in 2023 is greater than the mean in 2022.\n",
    "\n",
    "TYPE OF TAILED-TEST TO BE PERFORMED : One-taile Z-Test  \n",
    "\n",
    "We use Z-Test because the population standard deviation is known, and the sample size is relatively large. And we are conducting one-tailed \n",
    "as the promoter believes that the average budget in 2023 is higher than in 2022."
   ]
  },
  {
   "cell_type": "code",
   "execution_count": 4,
   "id": "216ed241-9824-4be8-ba5c-7d298e422ee8",
   "metadata": {},
   "outputs": [],
   "source": [
    "# Given data :\n",
    "\n",
    "p_mean = 221.3 \n",
    "s_mean  = 222.2 \n",
    "n = 40\n",
    "pop_stdv = 74.83\n",
    "alpha = 0.05"
   ]
  },
  {
   "cell_type": "code",
   "execution_count": 5,
   "id": "a68c0a51-42a8-4866-855d-f8ad6f6b6854",
   "metadata": {},
   "outputs": [
    {
     "name": "stdout",
     "output_type": "stream",
     "text": [
      "Z Critical:  1.6448536269514722\n",
      "Z Statistical Value:  0.07606708256451877\n",
      "P Value:  0.4696828642738865\n"
     ]
    }
   ],
   "source": [
    "# Analyse the data\n",
    "\n",
    "import math\n",
    "import statistics as st\n",
    "from scipy.stats import norm\n",
    "\n",
    "# Calculating critical value of the hypothesis test\n",
    "z_critical=norm.ppf(1-alpha)\n",
    "print(\"Z Critical: \",z_critical)\n",
    "\n",
    "# Calculating test statistics for hypothesis test\n",
    "z_stats=(s_mean-p_mean)/(pop_stdv/math.sqrt(n))\n",
    "print(\"Z Statistical Value: \",z_stats)\n",
    "\n",
    "# Calculating the p-value for the hypothesis test\n",
    "p_val=norm.sf(abs(z_stats))\n",
    "print(\"P Value: \",p_val)"
   ]
  },
  {
   "cell_type": "code",
   "execution_count": 6,
   "id": "8776a933-de30-4d99-a0a6-252784279d74",
   "metadata": {},
   "outputs": [
    {
     "name": "stdout",
     "output_type": "stream",
     "text": [
      "Fail to reject the null hypothesis \n"
     ]
    }
   ],
   "source": [
    "if z_stats > z_critical:\n",
    "    print(\"Reject the null hypothesis \")\n",
    "else:\n",
    "    print(\"Fail to reject the null hypothesis \")"
   ]
  },
  {
   "cell_type": "code",
   "execution_count": 7,
   "id": "3ed60b16-9a03-479e-92bc-846ad4245062",
   "metadata": {},
   "outputs": [
    {
     "name": "stdout",
     "output_type": "stream",
     "text": [
      "Fail to reject the null hypothesis : There is insufficient evidence to suggest that the average advertising budget in 2023 is higher than 2022.\n"
     ]
    }
   ],
   "source": [
    "if p_val< alpha:\n",
    "    print(\"p-value with alpha value : Reject the null hypothesis : The average advertising budget in 2023 is significantly higher than 2022.\")\n",
    "else:\n",
    "    print(\"Fail to reject the null hypothesis : There is insufficient evidence to suggest that the average advertising budget in 2023 is higher than 2022.\")"
   ]
  },
  {
   "cell_type": "markdown",
   "id": "cb73bfe4-baaa-4431-87cd-73f378c457b6",
   "metadata": {},
   "source": [
    "**CONCLUSION**\n",
    "\n"
   ]
  },
  {
   "cell_type": "markdown",
   "id": "f335913a-4cc8-4599-81f9-10c512782f6b",
   "metadata": {},
   "source": [
    "## BUSINESS OBJECTIVE 5"
   ]
  },
  {
   "cell_type": "markdown",
   "id": "a33b0b55-4556-45ea-9d72-052e77178257",
   "metadata": {},
   "source": [
    "## TASK 2"
   ]
  },
  {
   "cell_type": "markdown",
   "id": "d6f13b5b-a6de-4838-89db-1a1dea3f41a9",
   "metadata": {},
   "source": [
    "**QUESTION:** \n",
    "\n",
    "Is there a statistically significant difference in the average price of computers with CD players and computers without CD players? Use 5% of the significance level for the test"
   ]
  },
  {
   "cell_type": "markdown",
   "id": "809c9032-f688-4809-acc4-e79fedeae077",
   "metadata": {},
   "source": [
    "a.) Establish the null and alternate hypothesis\n",
    "\n",
    "Null Hypothesis (H₀): There is no significant difference in the average price between computers with and without CD players.\n",
    "\n",
    "Alternative Hypothesis (H₁): There is a significant difference in the average price between computers with and without CD players."
   ]
  },
  {
   "cell_type": "code",
   "execution_count": 12,
   "id": "8b734919-0a99-4088-8a6b-88c78124d8ec",
   "metadata": {},
   "outputs": [
    {
     "name": "stdout",
     "output_type": "stream",
     "text": [
      "Prices with CD MEAN:  2342.6055708390645\n",
      "Prices without CD MEAN:  2112.8119964189796\n",
      "Standard deviation of Prices with CD :  527.4477919505294\n",
      "Standard deviation of Prices without CD :  603.494237086272\n",
      "Size of Prices with CD :  2908\n",
      "Size of Prices without CD : 3351\n",
      "Variance of Prices with CD :  278201.173233489\n",
      "Variance of Prices without CD :  364205.29419634154\n"
     ]
    }
   ],
   "source": [
    "import pandas as pd\n",
    "from scipy import stats\n",
    "from scipy.stats import t\n",
    "\n",
    "# Separate the prices into two groups: with CD and without CD\n",
    "prices_with_cd = computer_df[computer_df['cd'] == 'yes']['price']\n",
    "prices_without_cd = computer_df[computer_df['cd'] == 'no']['price']\n",
    "\n",
    "# Perform an independent two-sample t-test\n",
    "prices_with_cd_mean=st.mean(prices_with_cd)\n",
    "prices_with_cd_std=st.stdev(prices_with_cd)\n",
    "prices_with_cd_size=len(prices_with_cd)\n",
    "prices_with_cd_var=prices_with_cd_std**2\n",
    "\n",
    "prices_without_cd_mean=st.mean(prices_without_cd)\n",
    "prices_without_cd_std=st.stdev(prices_without_cd)\n",
    "prices_without_cd_size=len(prices_without_cd)\n",
    "prices_without_cd_var=prices_without_cd_std**2\n",
    "\n",
    "dof=prices_with_cd_size+prices_without_cd_size-2\n",
    "\n",
    "print(\"Prices with CD MEAN: \", prices_with_cd_mean)\n",
    "print(\"Prices without CD MEAN: \" ,prices_without_cd_mean)\n",
    "print(\"Standard deviation of Prices with CD : \",prices_with_cd_std)\n",
    "print(\"Standard deviation of Prices without CD : \",prices_without_cd_std)\n",
    "print(\"Size of Prices with CD : \" , prices_with_cd_size)\n",
    "print(\"Size of Prices without CD :\",prices_without_cd_size)\n",
    "print(\"Variance of Prices with CD : \",prices_with_cd_var)\n",
    "print(\"Variance of Prices without CD : \",prices_without_cd_var)\n"
   ]
  },
  {
   "cell_type": "code",
   "execution_count": 13,
   "id": "b11075b1-0269-453a-921d-668fbd7cf6f1",
   "metadata": {},
   "outputs": [
    {
     "name": "stdout",
     "output_type": "stream",
     "text": [
      "T Statistics:  0.20130205884119745\n",
      "T Critical:  -1.9603431954063066\n",
      "P Value : 0.840468936223419\n"
     ]
    }
   ],
   "source": [
    "import math \n",
    "\n",
    "num=abs(prices_with_cd_mean - prices_without_cd_mean)\n",
    "\n",
    "denom=math.sqrt(prices_with_cd_var*(prices_with_cd_size-1)+prices_without_cd_var*(prices_without_cd_size-1))* math.sqrt((1/prices_with_cd_size)+(1/prices_without_cd_size))\n",
    "\n",
    "tstats=num/denom\n",
    "print(\"T Statistics: \", tstats)\n",
    "\n",
    "tcritical=t.ppf(alpha/2,dof)\n",
    "print(\"T Critical: \",tcritical)\n",
    "\n",
    "p_val=t.sf(abs(tstats),dof)*2\n",
    "print(\"P Value :\",p_val)"
   ]
  },
  {
   "cell_type": "code",
   "execution_count": 14,
   "id": "31e3cc10-a68f-4f8d-b332-8f37b0151009",
   "metadata": {},
   "outputs": [
    {
     "name": "stdout",
     "output_type": "stream",
     "text": [
      "Reject the null hypothesis (H₀). There is a statistically significant difference in the average prices.\n"
     ]
    }
   ],
   "source": [
    "# Check if p-value is less than the significance level (0.05)\n",
    "alpha = 0.05\n",
    "if p_value < alpha:\n",
    "    print(\"Reject the null hypothesis (H₀). There is a statistically significant difference in the average prices.\")\n",
    "else:\n",
    "    print(\"Fail to reject the null hypothesis (H₀). There is no statistically significant difference in the average prices.\")"
   ]
  },
  {
   "cell_type": "markdown",
   "id": "44f1095e-74e6-45d6-8e7d-1c1e2545b10e",
   "metadata": {},
   "source": [
    "## BUSINESS OBJECTIVE 6"
   ]
  },
  {
   "cell_type": "markdown",
   "id": "df0459d4-dc21-4f83-84b9-b1f96b5a3e41",
   "metadata": {},
   "source": [
    "## Task 3"
   ]
  },
  {
   "cell_type": "markdown",
   "id": "3aebf482-e60b-404a-964c-be87071b6bee",
   "metadata": {},
   "source": [
    "**QUESTION: a.) Identify Price Discrepancy for Premium Computers** \n",
    "\n",
    "Determine if the mean price of premium computers differs significantly from $2200?\r\n",
    "To examine this, select 25 samples of premium computers randomly from the data. Assume the data is normally distributed in the population. Use a 5% significance level to test this hypothesis."
   ]
  },
  {
   "cell_type": "markdown",
   "id": "480e313f-aa92-4668-b25b-11ccc080b21f",
   "metadata": {},
   "source": [
    "a.) Establish the null and alternate hypothesis\n",
    "\n",
    "Null Hypothesis (H₀): The mean price of premium computers is equal to $2200.\n",
    "\n",
    "Alternative Hypothesis (H₁): The mean price of premium computers is not equal to $2200."
   ]
  },
  {
   "cell_type": "code",
   "execution_count": 20,
   "id": "88852f2b-a7f7-4747-b6b5-1c0258c25e64",
   "metadata": {},
   "outputs": [
    {
     "name": "stdout",
     "output_type": "stream",
     "text": [
      "Sample Mean : 2168.32\n",
      "Standard deviation of sample:  589.4063906451416\n"
     ]
    }
   ],
   "source": [
    "# Filter out only premium computers\n",
    "premium_computers = computer_df[computer_df['premium'] == 'yes']['price']\n",
    "\n",
    "# Randomly select 25 premium computers \n",
    "sample_premium = premium_computers.sample(n=25, replace=True, random_state=42)  # Sampling with replacement to meet n=25\n",
    "\n",
    "# Perform a one-sample t-test\n",
    "pop_mean = 2200  # Hypothesized population mean\n",
    "sample_premium_mean= st.mean(sample_premium)  \n",
    "n=25\n",
    "\n",
    "sample_premium_std=st.stdev(sample_premium)\n",
    "dof=n-1\n",
    "\n",
    "\n",
    "print(\"Sample Mean :\" ,sample_premium_mean)\n",
    "print(\"Standard deviation of sample: \", sample_premium_std)\n",
    "\n"
   ]
  },
  {
   "cell_type": "code",
   "execution_count": 22,
   "id": "89581a4e-6cc4-4b48-a01c-0194cf4f2dd6",
   "metadata": {},
   "outputs": [
    {
     "name": "stdout",
     "output_type": "stream",
     "text": [
      "T Statistics:  -0.26874496529740816\n",
      "T Critical:  -2.063898561628021\n",
      "P Value : 0.7904226567567547\n"
     ]
    }
   ],
   "source": [
    "tstats = (sample_premium_mean - pop_mean)/(sample_premium_std/(n**0.5))\n",
    "print(\"T Statistics: \",tstats)\n",
    "\n",
    "t_critical=t.ppf(alpha/2,dof)\n",
    "print(\"T Critical: \",t_critical)\n",
    "\n",
    "p_val=t.sf(abs(tstats),dof)*2\n",
    "print(\"P Value :\",p_val)\n"
   ]
  },
  {
   "cell_type": "code",
   "execution_count": 23,
   "id": "4c9d3133-1124-4942-b039-c4cf95c7d61d",
   "metadata": {},
   "outputs": [
    {
     "name": "stdout",
     "output_type": "stream",
     "text": [
      "Reject the null hypothesis (H₀). The mean price of premium computers significantly differs from $2200.\n"
     ]
    }
   ],
   "source": [
    "# Check if p-value is less than the significance level (0.05)\n",
    "alpha = 0.05\n",
    "if p_value < alpha:\n",
    "    print(\"Reject the null hypothesis (H₀). The mean price of premium computers significantly differs from $2200.\")\n",
    "else:\n",
    "    print(\"Fail to reject the null hypothesis (H₀). There is no significant difference in the mean price of premium computers from $2200.\")"
   ]
  },
  {
   "cell_type": "markdown",
   "id": "304cfa9e-ca1e-4dff-bd60-6733b88e28f8",
   "metadata": {},
   "source": [
    "**QUESTION : b.)  Analyze price disparity between premium and non-premium computers.**\n",
    "Is there a significant difference in the mean prices of premium and non-premium computers?\n",
    "Assume that the prices are normally distributed and that the population variances are approximately equal. Use a 5% significance level to test this hypothesis"
   ]
  },
  {
   "cell_type": "markdown",
   "id": "1f399a31-49d3-4362-a1bc-cbc4c7b1998d",
   "metadata": {},
   "source": [
    "a.) Establish the null and alternate hypothesis\n",
    "\n",
    "Null Hypothesis (H₀): There is no significant difference between the mean prices of premium and non-premium computers.\n",
    "\n",
    "Alternative Hypothesis (H₁): There is a significant difference between the mean prices of premium and non-premium computers."
   ]
  },
  {
   "cell_type": "code",
   "execution_count": 25,
   "id": "ef0322af-2e7a-4cba-93ee-6545f40505e9",
   "metadata": {},
   "outputs": [
    {
     "name": "stdout",
     "output_type": "stream",
     "text": [
      "Premium Computers MEAN:  2204.148397379139\n",
      "Non-Premium Computers MEAN:  2361.9346405228757\n",
      "Standard deviation of premium_computers :  570.4449058900096\n",
      "Standard deviation of Non-Premium Computers :  652.3712599894812\n",
      "Size of premium_computers :  5647\n",
      "Size of Non-Premium Computers : 612\n",
      "Variance of premium_computers :  325407.39065586193\n",
      "Variance of Non-Premium Computers :  425588.2608602633\n"
     ]
    }
   ],
   "source": [
    "# Split the data into two groups: premium and non-premium computers\n",
    "premium_computers = computer_df[computer_df['premium'] == 'yes']['price']\n",
    "non_premium_computers = computer_df[computer_df['premium'] == 'no']['price']\n",
    "\n",
    "\n",
    "# Perform an independent two-sample t-test\n",
    "premium_computers_mean=st.mean(premium_computers)\n",
    "premium_computers_std=st.stdev(premium_computers)\n",
    "premium_computers_size=len(premium_computers)\n",
    "premium_computers_var=premium_computers_std**2\n",
    "\n",
    "non_premium_computers_mean=st.mean(non_premium_computers)\n",
    "non_premium_computers_std=st.stdev(non_premium_computers)\n",
    "non_premium_computers_size=len(non_premium_computers)\n",
    "non_premium_computers_var=non_premium_computers_std**2\n",
    "\n",
    "dof=premium_computers_size+non_premium_computers_size-2\n",
    "\n",
    "print(\"Premium Computers MEAN: \", premium_computers_mean)\n",
    "print(\"Non-Premium Computers MEAN: \" ,non_premium_computers_mean)\n",
    "print(\"Standard deviation of premium_computers : \",premium_computers_std)\n",
    "print(\"Standard deviation of Non-Premium Computers : \",non_premium_computers_std)\n",
    "print(\"Size of premium_computers : \" , premium_computers_size)\n",
    "print(\"Size of Non-Premium Computers :\",non_premium_computers_size)\n",
    "print(\"Variance of premium_computers : \",premium_computers_var)\n",
    "print(\"Variance of Non-Premium Computers : \",non_premium_computers_var)\n"
   ]
  },
  {
   "cell_type": "code",
   "execution_count": 27,
   "id": "fe6b21be-466c-4614-a36b-1fa110ff0971",
   "metadata": {},
   "outputs": [
    {
     "name": "stdout",
     "output_type": "stream",
     "text": [
      "T Statistics:  0.08096038890586069\n",
      "T Critical:  -1.9603431954063066\n",
      "P Value : 0.9354760434827551\n"
     ]
    }
   ],
   "source": [
    "num=abs(premium_computers_mean - non_premium_computers_mean)\n",
    "\n",
    "denom=math.sqrt(premium_computers_var*(premium_computers_size-1)+non_premium_computers_var*(non_premium_computers_size-1))* math.sqrt((1/premium_computers_size)+(1/non_premium_computers_size))\n",
    "\n",
    "tstats=num/denom\n",
    "print(\"T Statistics: \", tstats)\n",
    "\n",
    "tcritical=t.ppf(alpha/2,dof)\n",
    "print(\"T Critical: \",tcritical)\n",
    "\n",
    "p_val=t.sf(abs(tstats),dof)*2\n",
    "print(\"P Value :\",p_val)"
   ]
  },
  {
   "cell_type": "code",
   "execution_count": 28,
   "id": "4307473b-0eae-4a49-bf07-358b749b302d",
   "metadata": {},
   "outputs": [
    {
     "name": "stdout",
     "output_type": "stream",
     "text": [
      "Reject the null hypothesis (H₀). There is a significant difference in the mean prices of premium and non-premium computers.\n"
     ]
    }
   ],
   "source": [
    "# Check if p-value is less than the significance level (0.05)\n",
    "alpha = 0.05\n",
    "if p_value < alpha:\n",
    "    print(\"Reject the null hypothesis (H₀). There is a significant difference in the mean prices of premium and non-premium computers.\")\n",
    "else:\n",
    "    print(\"Fail to reject the null hypothesis (H₀). There is no significant difference in the mean prices of premium and non-premium computers.\")"
   ]
  },
  {
   "cell_type": "code",
   "execution_count": null,
   "id": "015f31c0-fccd-46ad-93e2-056bf3d6697c",
   "metadata": {},
   "outputs": [],
   "source": []
  }
 ],
 "metadata": {
  "kernelspec": {
   "display_name": "Python 3 (ipykernel)",
   "language": "python",
   "name": "python3"
  },
  "language_info": {
   "codemirror_mode": {
    "name": "ipython",
    "version": 3
   },
   "file_extension": ".py",
   "mimetype": "text/x-python",
   "name": "python",
   "nbconvert_exporter": "python",
   "pygments_lexer": "ipython3",
   "version": "3.11.7"
  }
 },
 "nbformat": 4,
 "nbformat_minor": 5
}
